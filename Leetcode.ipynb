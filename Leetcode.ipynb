{
 "cells": [
  {
   "cell_type": "markdown",
   "metadata": {},
   "source": [
    "### two-sum\n",
    "给定一个整数数组 nums 和一个目标值 target，请你在该数组中找出和为目标值的那 两个 整数，并返回他们的数组下标。\n",
    "\n",
    "你可以假设每种输入只会对应一个答案。但是，你不能重复利用这个数组中同样的元素。\n",
    "\n",
    "示例:\n",
    "\n",
    "给定 nums = [2, 7, 11, 15], target = 9\n",
    "\n",
    "因为 nums[0] + nums[1] = 2 + 7 = 9\n",
    "所以返回 [0, 1]\n",
    "\n",
    "链接：https://leetcode-cn.com/problems/two-sum\n"
   ]
  },
  {
   "cell_type": "code",
   "execution_count": 3,
   "metadata": {},
   "outputs": [],
   "source": [
    "def twoSum(nums, target):\n",
    "    # nums.sort()\n",
    "    for x in range(len(nums)):\n",
    "        for y in range(x+1,len(nums)):\n",
    "            z = nums[x] + nums[y]\n",
    "            if z == target:\n",
    "                return(x,y)"
   ]
  },
  {
   "cell_type": "markdown",
   "metadata": {},
   "source": [
    "## 两数相加\n",
    "给出两个 非空 的链表用来表示两个非负的整数。其中，它们各自的位数是按照 逆序 的方式存储的，并且它们的每个节点只能存储 一位 数字。\n",
    "\n",
    "如果，我们将这两个数相加起来，则会返回一个新的链表来表示它们的和。\n",
    "\n",
    "您可以假设除了数字 0 之外，这两个数都不会以 0 开头。\n",
    "\n",
    "示例：\n",
    "\n",
    "输入：(2 -> 4 -> 3) + (5 -> 6 -> 4)\n",
    "输出：7 -> 0 -> 8\n",
    "原因：342 + 465 = 807\n",
    "\n",
    "链接：https://leetcode-cn.com/problems/add-two-numbers\n"
   ]
  },
  {
   "cell_type": "markdown",
   "metadata": {},
   "source": [
    "## longest-substring-without-repeating-characters\n",
    "给定一个字符串，请你找出其中不含有重复字符的 最长子串 的长度。\n",
    "\n",
    "示例 1:\n",
    "\n",
    "输入: \"abcabcbb\"\n",
    "输出: 3 \n",
    "解释: 因为无重复字符的最长子串是 \"abc\"，所以其长度为 3。\n",
    "示例 2:\n",
    "\n",
    "输入: \"bbbbb\"\n",
    "输出: 1\n",
    "解释: 因为无重复字符的最长子串是 \"b\"，所以其长度为 1。\n",
    "示例 3:\n",
    "\n",
    "输入: \"pwwkew\"\n",
    "输出: 3\n",
    "解释: 因为无重复字符的最长子串是 \"wke\"，所以其长度为 3。\n",
    "     请注意，你的答案必须是 子串 的长度，\"pwke\" 是一个子序列，不是子串。\n",
    "\n",
    "来源：力扣（LeetCode）\n",
    "链接：https://leetcode-cn.com/problems/longest-substring-without-repeating-characters\n",
    "著作权归领扣网络所有。商业转载请联系官方授权，非商业转载请注明出处。"
   ]
  },
  {
   "cell_type": "code",
   "execution_count": 80,
   "metadata": {},
   "outputs": [
    {
     "name": "stdout",
     "output_type": "stream",
     "text": [
      "56.3 µs ± 4.66 µs per loop (mean ± std. dev. of 7 runs, 10000 loops each)\n"
     ]
    }
   ],
   "source": [
    "%%timeit\n",
    "def lengthOfLongestSubstring(s):\n",
    "\n",
    "    n = len(s)\n",
    "    \n",
    "    if len(set(s)) == n:\n",
    "#         print(\"here\")\n",
    "        return n\n",
    "    \n",
    "    else:\n",
    "        for i in range(1,len(s)+1):\n",
    "#             print(\"i:\" + str(i))\n",
    "            \n",
    "            m = n-i\n",
    "#             print(\"m:\" + str(m))\n",
    "            \n",
    "            for j in range(i+1):\n",
    "                if len(set(s[j:m+j])) == m:\n",
    "#                     print(\"j:\" + str(j))\n",
    "                    aa = m\n",
    "#                     print(\"aa:\"+str(aa))\n",
    "                    return(aa)\n",
    "                    break\n",
    "                    \n",
    "                    \n",
    "                else:\n",
    "                    continue\n",
    "            \n",
    "#             return(aa)\n",
    "        \n",
    "        \n",
    "lengthOfLongestSubstring(\"abcsdjaklsdjakljdklded\") "
   ]
  },
  {
   "cell_type": "code",
   "execution_count": 82,
   "metadata": {},
   "outputs": [
    {
     "name": "stdout",
     "output_type": "stream",
     "text": [
      "8.4 µs ± 118 ns per loop (mean ± std. dev. of 7 runs, 100000 loops each)\n"
     ]
    }
   ],
   "source": [
    "%%timeit\n",
    "def lengthOfLongestSubstring(s):\n",
    "\n",
    "    n = len(s)\n",
    "    \n",
    "    if len(set(s)) == n:\n",
    "        print(\"here\")\n",
    "        return n\n",
    "    \n",
    "    else:\n",
    "        for i in range(n-len(set(s)), len(s)+1):\n",
    "\n",
    "            m = n-i\n",
    "            \n",
    "            for j in range(i+1):\n",
    "                if len(set(s[j:m+j])) == m:\n",
    "#                     print(\"j:\" + str(j))\n",
    "                    aa = m\n",
    "#                     print(\"aa:\"+str(aa))\n",
    "                    return(aa)\n",
    "                    break\n",
    "                    \n",
    "                    \n",
    "                else:\n",
    "                    continue\n",
    "            \n",
    "        \n",
    "lengthOfLongestSubstring(\"abcsdjaklsdjakljdklded\") "
   ]
  }
 ],
 "metadata": {
  "kernelspec": {
   "display_name": "Python 3",
   "language": "python",
   "name": "python3"
  },
  "language_info": {
   "codemirror_mode": {
    "name": "ipython",
    "version": 3
   },
   "file_extension": ".py",
   "mimetype": "text/x-python",
   "name": "python",
   "nbconvert_exporter": "python",
   "pygments_lexer": "ipython3",
   "version": "3.7.0"
  }
 },
 "nbformat": 4,
 "nbformat_minor": 2
}
